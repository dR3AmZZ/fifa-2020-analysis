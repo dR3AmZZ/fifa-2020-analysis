{
  "nbformat": 4,
  "nbformat_minor": 0,
  "metadata": {
    "colab": {
      "name": "IST718-final.ipynb",
      "provenance": [],
      "toc_visible": true,
      "include_colab_link": true
    },
    "kernelspec": {
      "name": "python3",
      "display_name": "Python 3"
    }
  },
  "cells": [
    {
      "cell_type": "markdown",
      "metadata": {
        "id": "view-in-github",
        "colab_type": "text"
      },
      "source": [
        "<a href=\"https://colab.research.google.com/github/dR3AmZZ/fifa-2020-analysis/blob/main/FIFA2020_analysis.ipynb\" target=\"_parent\"><img src=\"https://colab.research.google.com/assets/colab-badge.svg\" alt=\"Open In Colab\"/></a>"
      ]
    },
    {
      "cell_type": "markdown",
      "metadata": {
        "id": "jE5Ib0adC4h4"
      },
      "source": [
        "# Final Project"
      ]
    },
    {
      "cell_type": "markdown",
      "metadata": {
        "id": "VX3a_U77C-Rj"
      },
      "source": [
        "## Data preprocessing"
      ]
    },
    {
      "cell_type": "code",
      "metadata": {
        "colab": {
          "base_uri": "https://localhost:8080/"
        },
        "id": "45JZ8-JVYbIN",
        "outputId": "a864acdb-378a-4b3b-da04-b5baf2aa9486"
      },
      "source": [
        "# Load Data\n",
        "%%bash\n",
        "pip install pyspark\n",
        "# Download the data files from github\n",
        "# If the data file does not exist in the colab environment\n",
        "if [[ ! -f ./players_20.csv ]]; then \n",
        "   # download the data file from github and save it in this colab environment instance\n",
        "   wget https://raw.githubusercontent.com/Kun97/FIFA20_DataAnalysis/main/players_20.csv\n",
        "fi"
      ],
      "execution_count": null,
      "outputs": [
        {
          "output_type": "stream",
          "text": [
            "Collecting pyspark\n",
            "  Downloading https://files.pythonhosted.org/packages/f0/26/198fc8c0b98580f617cb03cb298c6056587b8f0447e20fa40c5b634ced77/pyspark-3.0.1.tar.gz (204.2MB)\n",
            "Collecting py4j==0.10.9\n",
            "  Downloading https://files.pythonhosted.org/packages/9e/b6/6a4fb90cd235dc8e265a6a2067f2a2c99f0d91787f06aca4bcf7c23f3f80/py4j-0.10.9-py2.py3-none-any.whl (198kB)\n",
            "Building wheels for collected packages: pyspark\n",
            "  Building wheel for pyspark (setup.py): started\n",
            "  Building wheel for pyspark (setup.py): finished with status 'done'\n",
            "  Created wheel for pyspark: filename=pyspark-3.0.1-py2.py3-none-any.whl size=204612243 sha256=04746b8c43f05910ab65634eba86e9cb738273b78ca931e85aa2c63ea7294250\n",
            "  Stored in directory: /root/.cache/pip/wheels/5e/bd/07/031766ca628adec8435bb40f0bd83bb676ce65ff4007f8e73f\n",
            "Successfully built pyspark\n",
            "Installing collected packages: py4j, pyspark\n",
            "Successfully installed py4j-0.10.9 pyspark-3.0.1\n"
          ],
          "name": "stdout"
        },
        {
          "output_type": "stream",
          "text": [
            "--2020-11-30 03:17:48--  https://raw.githubusercontent.com/Kun97/FIFA20_DataAnalysis/main/players_20.csv\n",
            "Resolving raw.githubusercontent.com (raw.githubusercontent.com)... 151.101.0.133, 151.101.64.133, 151.101.128.133, ...\n",
            "Connecting to raw.githubusercontent.com (raw.githubusercontent.com)|151.101.0.133|:443... connected.\n",
            "HTTP request sent, awaiting response... 200 OK\n",
            "Length: 8945067 (8.5M) [text/plain]\n",
            "Saving to: ‘players_20.csv’\n",
            "\n",
            "     0K .......... .......... .......... .......... ..........  0% 3.72M 2s\n",
            "    50K .......... .......... .......... .......... ..........  1% 9.17M 2s\n",
            "   100K .......... .......... .......... .......... ..........  1% 5.06M 2s\n",
            "   150K .......... .......... .......... .......... ..........  2% 15.8M 1s\n",
            "   200K .......... .......... .......... .......... ..........  2% 6.92M 1s\n",
            "   250K .......... .......... .......... .......... ..........  3% 26.9M 1s\n",
            "   300K .......... .......... .......... .......... ..........  4% 37.1M 1s\n",
            "   350K .......... .......... .......... .......... ..........  4% 28.2M 1s\n",
            "   400K .......... .......... .......... .......... ..........  5% 39.8M 1s\n",
            "   450K .......... .......... .......... .......... ..........  5% 7.09M 1s\n",
            "   500K .......... .......... .......... .......... ..........  6% 35.6M 1s\n",
            "   550K .......... .......... .......... .......... ..........  6% 18.8M 1s\n",
            "   600K .......... .......... .......... .......... ..........  7% 26.5M 1s\n",
            "   650K .......... .......... .......... .......... ..........  8% 25.0M 1s\n",
            "   700K .......... .......... .......... .......... ..........  8% 26.4M 1s\n",
            "   750K .......... .......... .......... .......... ..........  9% 15.3M 1s\n",
            "   800K .......... .......... .......... .......... ..........  9% 18.5M 1s\n",
            "   850K .......... .......... .......... .......... .......... 10% 20.0M 1s\n",
            "   900K .......... .......... .......... .......... .......... 10% 26.4M 1s\n",
            "   950K .......... .......... .......... .......... .......... 11% 26.2M 1s\n",
            "  1000K .......... .......... .......... .......... .......... 12% 35.9M 1s\n",
            "  1050K .......... .......... .......... .......... .......... 12% 12.9M 1s\n",
            "  1100K .......... .......... .......... .......... .......... 13% 26.5M 1s\n",
            "  1150K .......... .......... .......... .......... .......... 13% 19.2M 1s\n",
            "  1200K .......... .......... .......... .......... .......... 14% 19.0M 1s\n",
            "  1250K .......... .......... .......... .......... .......... 14% 82.8M 0s\n",
            "  1300K .......... .......... .......... .......... .......... 15% 19.8M 0s\n",
            "  1350K .......... .......... .......... .......... .......... 16% 15.4M 0s\n",
            "  1400K .......... .......... .......... .......... .......... 16% 19.4M 0s\n",
            "  1450K .......... .......... .......... .......... .......... 17% 34.6M 0s\n",
            "  1500K .......... .......... .......... .......... .......... 17% 19.2M 0s\n",
            "  1550K .......... .......... .......... .......... .......... 18% 39.5M 0s\n",
            "  1600K .......... .......... .......... .......... .......... 18% 28.0M 0s\n",
            "  1650K .......... .......... .......... .......... .......... 19% 16.3M 0s\n",
            "  1700K .......... .......... .......... .......... .......... 20% 38.8M 0s\n",
            "  1750K .......... .......... .......... .......... .......... 20% 18.1M 0s\n",
            "  1800K .......... .......... .......... .......... .......... 21% 50.3M 0s\n",
            "  1850K .......... .......... .......... .......... .......... 21% 15.3M 0s\n",
            "  1900K .......... .......... .......... .......... .......... 22% 23.4M 0s\n",
            "  1950K .......... .......... .......... .......... .......... 22% 36.9M 0s\n",
            "  2000K .......... .......... .......... .......... .......... 23% 29.4M 0s\n",
            "  2050K .......... .......... .......... .......... .......... 24% 21.5M 0s\n",
            "  2100K .......... .......... .......... .......... .......... 24% 27.1M 0s\n",
            "  2150K .......... .......... .......... .......... .......... 25% 75.7M 0s\n",
            "  2200K .......... .......... .......... .......... .......... 25% 16.4M 0s\n",
            "  2250K .......... .......... .......... .......... .......... 26% 16.9M 0s\n",
            "  2300K .......... .......... .......... .......... .......... 26% 71.8M 0s\n",
            "  2350K .......... .......... .......... .......... .......... 27% 36.1M 0s\n",
            "  2400K .......... .......... .......... .......... .......... 28% 18.2M 0s\n",
            "  2450K .......... .......... .......... .......... .......... 28% 26.3M 0s\n",
            "  2500K .......... .......... .......... .......... .......... 29% 72.8M 0s\n",
            "  2550K .......... .......... .......... .......... .......... 29% 19.1M 0s\n",
            "  2600K .......... .......... .......... .......... .......... 30% 16.1M 0s\n",
            "  2650K .......... .......... .......... .......... .......... 30% 40.2M 0s\n",
            "  2700K .......... .......... .......... .......... .......... 31% 39.6M 0s\n",
            "  2750K .......... .......... .......... .......... .......... 32% 20.6M 0s\n",
            "  2800K .......... .......... .......... .......... .......... 32% 70.8M 0s\n",
            "  2850K .......... .......... .......... .......... .......... 33% 25.2M 0s\n",
            "  2900K .......... .......... .......... .......... .......... 33% 26.0M 0s\n",
            "  2950K .......... .......... .......... .......... .......... 34% 63.1M 0s\n",
            "  3000K .......... .......... .......... .......... .......... 34% 13.8M 0s\n",
            "  3050K .......... .......... .......... .......... .......... 35% 64.6M 0s\n",
            "  3100K .......... .......... .......... .......... .......... 36% 35.6M 0s\n",
            "  3150K .......... .......... .......... .......... .......... 36% 24.2M 0s\n",
            "  3200K .......... .......... .......... .......... .......... 37% 36.8M 0s\n",
            "  3250K .......... .......... .......... .......... .......... 37% 27.2M 0s\n",
            "  3300K .......... .......... .......... .......... .......... 38% 26.8M 0s\n",
            "  3350K .......... .......... .......... .......... .......... 38% 25.4M 0s\n",
            "  3400K .......... .......... .......... .......... .......... 39% 23.4M 0s\n",
            "  3450K .......... .......... .......... .......... .......... 40% 36.2M 0s\n",
            "  3500K .......... .......... .......... .......... .......... 40% 19.6M 0s\n",
            "  3550K .......... .......... .......... .......... .......... 41% 80.8M 0s\n",
            "  3600K .......... .......... .......... .......... .......... 41% 66.2M 0s\n",
            "  3650K .......... .......... .......... .......... .......... 42% 28.4M 0s\n",
            "  3700K .......... .......... .......... .......... .......... 42% 25.4M 0s\n",
            "  3750K .......... .......... .......... .......... .......... 43% 23.8M 0s\n",
            "  3800K .......... .......... .......... .......... .......... 44% 25.2M 0s\n",
            "  3850K .......... .......... .......... .......... .......... 44% 54.8M 0s\n",
            "  3900K .......... .......... .......... .......... .......... 45% 40.9M 0s\n",
            "  3950K .......... .......... .......... .......... .......... 45% 22.2M 0s\n",
            "  4000K .......... .......... .......... .......... .......... 46% 38.8M 0s\n",
            "  4050K .......... .......... .......... .......... .......... 46% 52.7M 0s\n",
            "  4100K .......... .......... .......... .......... .......... 47% 30.1M 0s\n",
            "  4150K .......... .......... .......... .......... .......... 48% 31.7M 0s\n",
            "  4200K .......... .......... .......... .......... .......... 48% 36.9M 0s\n",
            "  4250K .......... .......... .......... .......... .......... 49% 24.0M 0s\n",
            "  4300K .......... .......... .......... .......... .......... 49% 57.8M 0s\n",
            "  4350K .......... .......... .......... .......... .......... 50% 38.1M 0s\n",
            "  4400K .......... .......... .......... .......... .......... 50% 25.0M 0s\n",
            "  4450K .......... .......... .......... .......... .......... 51% 23.6M 0s\n",
            "  4500K .......... .......... .......... .......... .......... 52% 70.9M 0s\n",
            "  4550K .......... .......... .......... .......... .......... 52% 39.1M 0s\n",
            "  4600K .......... .......... .......... .......... .......... 53% 30.3M 0s\n",
            "  4650K .......... .......... .......... .......... .......... 53% 89.5M 0s\n",
            "  4700K .......... .......... .......... .......... .......... 54% 32.5M 0s\n",
            "  4750K .......... .......... .......... .......... .......... 54% 19.8M 0s\n",
            "  4800K .......... .......... .......... .......... .......... 55% 70.9M 0s\n",
            "  4850K .......... .......... .......... .......... .......... 56% 22.8M 0s\n",
            "  4900K .......... .......... .......... .......... .......... 56% 40.4M 0s\n",
            "  4950K .......... .......... .......... .......... .......... 57% 48.7M 0s\n",
            "  5000K .......... .......... .......... .......... .......... 57% 34.0M 0s\n",
            "  5050K .......... .......... .......... .......... .......... 58% 47.4M 0s\n",
            "  5100K .......... .......... .......... .......... .......... 58% 59.5M 0s\n",
            "  5150K .......... .......... .......... .......... .......... 59% 53.1M 0s\n",
            "  5200K .......... .......... .......... .......... .......... 60% 15.9M 0s\n",
            "  5250K .......... .......... .......... .......... .......... 60% 35.4M 0s\n",
            "  5300K .......... .......... .......... .......... .......... 61% 65.0M 0s\n",
            "  5350K .......... .......... .......... .......... .......... 61% 27.5M 0s\n",
            "  5400K .......... .......... .......... .......... .......... 62% 31.1M 0s\n",
            "  5450K .......... .......... .......... .......... .......... 62% 68.0M 0s\n",
            "  5500K .......... .......... .......... .......... .......... 63% 57.3M 0s\n",
            "  5550K .......... .......... .......... .......... .......... 64% 41.1M 0s\n",
            "  5600K .......... .......... .......... .......... .......... 64% 37.6M 0s\n",
            "  5650K .......... .......... .......... .......... .......... 65% 36.6M 0s\n",
            "  5700K .......... .......... .......... .......... .......... 65% 42.3M 0s\n",
            "  5750K .......... .......... .......... .......... .......... 66% 24.4M 0s\n",
            "  5800K .......... .......... .......... .......... .......... 66% 71.8M 0s\n",
            "  5850K .......... .......... .......... .......... .......... 67% 25.0M 0s\n",
            "  5900K .......... .......... .......... .......... .......... 68% 65.0M 0s\n",
            "  5950K .......... .......... .......... .......... .......... 68% 44.4M 0s\n",
            "  6000K .......... .......... .......... .......... .......... 69% 49.4M 0s\n",
            "  6050K .......... .......... .......... .......... .......... 69% 26.8M 0s\n",
            "  6100K .......... .......... .......... .......... .......... 70% 66.7M 0s\n",
            "  6150K .......... .......... .......... .......... .......... 70%  111M 0s\n",
            "  6200K .......... .......... .......... .......... .......... 71% 35.5M 0s\n",
            "  6250K .......... .......... .......... .......... .......... 72% 16.3M 0s\n",
            "  6300K .......... .......... .......... .......... .......... 72%  124M 0s\n",
            "  6350K .......... .......... .......... .......... .......... 73% 62.0M 0s\n",
            "  6400K .......... .......... .......... .......... .......... 73% 24.0M 0s\n",
            "  6450K .......... .......... .......... .......... .......... 74% 57.7M 0s\n",
            "  6500K .......... .......... .......... .......... .......... 74% 47.1M 0s\n",
            "  6550K .......... .......... .......... .......... .......... 75% 37.3M 0s\n",
            "  6600K .......... .......... .......... .......... .......... 76% 91.8M 0s\n",
            "  6650K .......... .......... .......... .......... .......... 76% 91.8M 0s\n",
            "  6700K .......... .......... .......... .......... .......... 77% 39.7M 0s\n",
            "  6750K .......... .......... .......... .......... .......... 77% 49.8M 0s\n",
            "  6800K .......... .......... .......... .......... .......... 78% 14.6M 0s\n",
            "  6850K .......... .......... .......... .......... .......... 78% 67.8M 0s\n",
            "  6900K .......... .......... .......... .......... .......... 79% 49.7M 0s\n",
            "  6950K .......... .......... .......... .......... .......... 80% 34.0M 0s\n",
            "  7000K .......... .......... .......... .......... .......... 80% 96.2M 0s\n",
            "  7050K .......... .......... .......... .......... .......... 81%  188M 0s\n",
            "  7100K .......... .......... .......... .......... .......... 81% 27.1M 0s\n",
            "  7150K .......... .......... .......... .......... .......... 82% 92.7M 0s\n",
            "  7200K .......... .......... .......... .......... .......... 82% 37.2M 0s\n",
            "  7250K .......... .......... .......... .......... .......... 83% 39.9M 0s\n",
            "  7300K .......... .......... .......... .......... .......... 84% 66.1M 0s\n",
            "  7350K .......... .......... .......... .......... .......... 84% 77.2M 0s\n",
            "  7400K .......... .......... .......... .......... .......... 85% 15.1M 0s\n",
            "  7450K .......... .......... .......... .......... .......... 85% 38.7M 0s\n",
            "  7500K .......... .......... .......... .......... .......... 86%  197M 0s\n",
            "  7550K .......... .......... .......... .......... .......... 87% 31.3M 0s\n",
            "  7600K .......... .......... .......... .......... .......... 87%  215M 0s\n",
            "  7650K .......... .......... .......... .......... .......... 88% 29.5M 0s\n",
            "  7700K .......... .......... .......... .......... .......... 88% 83.3M 0s\n",
            "  7750K .......... .......... .......... .......... .......... 89% 36.4M 0s\n",
            "  7800K .......... .......... .......... .......... .......... 89% 85.4M 0s\n",
            "  7850K .......... .......... .......... .......... .......... 90% 66.4M 0s\n",
            "  7900K .......... .......... .......... .......... .......... 91% 27.5M 0s\n",
            "  7950K .......... .......... .......... .......... .......... 91% 68.5M 0s\n",
            "  8000K .......... .......... .......... .......... .......... 92%  191M 0s\n",
            "  8050K .......... .......... .......... .......... .......... 92% 19.3M 0s\n",
            "  8100K .......... .......... .......... .......... .......... 93% 48.9M 0s\n",
            "  8150K .......... .......... .......... .......... .......... 93% 43.1M 0s\n",
            "  8200K .......... .......... .......... .......... .......... 94% 49.5M 0s\n",
            "  8250K .......... .......... .......... .......... .......... 95%  117M 0s\n",
            "  8300K .......... .......... .......... .......... .......... 95% 32.6M 0s\n",
            "  8350K .......... .......... .......... .......... .......... 96%  145M 0s\n",
            "  8400K .......... .......... .......... .......... .......... 96% 43.3M 0s\n",
            "  8450K .......... .......... .......... .......... .......... 97% 30.6M 0s\n",
            "  8500K .......... .......... .......... .......... .......... 97%  214M 0s\n",
            "  8550K .......... .......... .......... .......... .......... 98% 42.8M 0s\n",
            "  8600K .......... .......... .......... .......... .......... 99% 95.6M 0s\n",
            "  8650K .......... .......... .......... .......... .......... 99% 20.1M 0s\n",
            "  8700K .......... .......... .......... .....                100%  214M=0.3s\n",
            "\n",
            "2020-11-30 03:17:49 (28.6 MB/s) - ‘players_20.csv’ saved [8945067/8945067]\n",
            "\n"
          ],
          "name": "stderr"
        }
      ]
    },
    {
      "cell_type": "code",
      "metadata": {
        "id": "R5BV-PgYYYtu"
      },
      "source": [
        "# The first code cell of your notebook shall include all needed imports to run your project code.  Note that\n",
        "# there can be markdown cells above this cell.\n",
        "from pyspark.sql import SparkSession\n",
        "import pandas as pd\n",
        "from pyspark.sql.functions import col, lit, split, isnan, when, count, isnull\n",
        "from pyspark.ml import Pipeline\n",
        "from pyspark.ml.feature import StringIndexerModel, StringIndexer, OneHotEncoder\n",
        "import numpy as np\n",
        "import matplotlib.pyplot as plt"
      ],
      "execution_count": null,
      "outputs": []
    },
    {
      "cell_type": "code",
      "metadata": {
        "id": "zoulHi-UYwOB"
      },
      "source": [
        "from pyspark.sql import SparkSession\n",
        "spark = SparkSession.builder.master(\"local[*]\").getOrCreate()\n",
        "sc = spark.sparkContext"
      ],
      "execution_count": null,
      "outputs": []
    },
    {
      "cell_type": "code",
      "metadata": {
        "id": "XoUAYDsWY0sp"
      },
      "source": [
        "original_data = spark.read.csv(\"players_20.csv\", inferSchema=True, header=True)"
      ],
      "execution_count": null,
      "outputs": []
    },
    {
      "cell_type": "code",
      "metadata": {
        "id": "oB3qiwATahEn"
      },
      "source": [
        "# drop useless columns\n",
        "drop1_columns = ['sofifa_id', 'player_url', 'long_name', 'player_tags', 'player_traits', 'real_face', 'nation_jersey_number', 'team_jersey_number', 'loaned_from', 'joined', 'contract_valid_until','body_type']\n",
        "fixed1_Data = original_data.drop(*drop1_columns)"
      ],
      "execution_count": null,
      "outputs": []
    },
    {
      "cell_type": "code",
      "metadata": {
        "id": "i4u6vfWtaju7"
      },
      "source": [
        "# drop position ability(duplicated and will affect the final result)\n",
        "drop2_columns = fixed1_Data.columns[-26:]\n",
        "fixed2_Data = fixed1_Data.drop(*drop2_columns)"
      ],
      "execution_count": null,
      "outputs": []
    },
    {
      "cell_type": "code",
      "metadata": {
        "id": "yThhmgymAJz0"
      },
      "source": [
        "# drop duplicated columns\n",
        "drop3_columns = ['wage_eur', 'team_position', 'release_clause_eur', 'nation_position', 'gk_diving', 'gk_handling', 'gk_kicking', 'gk_reflexes', 'gk_speed', 'gk_positioning', 'pace', 'shooting', 'passing', 'dribbling', 'defending', 'physic']\n",
        "fixed3_Data = fixed2_Data.drop(*drop3_columns)"
      ],
      "execution_count": null,
      "outputs": []
    },
    {
      "cell_type": "code",
      "metadata": {
        "id": "9tvzux32IDWk"
      },
      "source": [
        "# split player_positions and choose the first position as primary position\n",
        "split_col = split(fixed3_Data['player_positions'], ',')\n",
        "position_data = fixed3_Data.withColumn('Position', split_col.getItem(0))\n",
        "position_data = position_data.drop('player_positions')"
      ],
      "execution_count": null,
      "outputs": []
    },
    {
      "cell_type": "code",
      "metadata": {
        "id": "MxDYF5MVh61J"
      },
      "source": [
        "# split work_Rate \n",
        "split_col = split(position_data['work_rate'], '/')\n",
        "position_data = position_data.withColumn('Attack_workrate', split_col.getItem(0))\n",
        "position_data = position_data.withColumn('Defend_workrate', split_col.getItem(1))\n",
        "position_data = position_data.drop('work_rate')"
      ],
      "execution_count": null,
      "outputs": []
    },
    {
      "cell_type": "code",
      "metadata": {
        "colab": {
          "base_uri": "https://localhost:8080/"
        },
        "id": "ZCPifnT6AkbR",
        "outputId": "fd76528b-b501-4288-c0b3-e79302dfbc8a"
      },
      "source": [
        "# narrow down positions: defender\n",
        "defender = ['LCB', 'RCB', 'LB', 'RB', 'CB', 'RWB', 'LWB']\n",
        "defender_data = position_data.filter(col('Position').isin(defender)).withColumn('Positon_General', lit('Defender'))\n",
        "defender_data.count()"
      ],
      "execution_count": null,
      "outputs": [
        {
          "output_type": "execute_result",
          "data": {
            "text/plain": [
              "5938"
            ]
          },
          "metadata": {
            "tags": []
          },
          "execution_count": 10
        }
      ]
    },
    {
      "cell_type": "code",
      "metadata": {
        "colab": {
          "base_uri": "https://localhost:8080/"
        },
        "id": "KveIQxvtCTid",
        "outputId": "3a2d169e-d73d-415e-936c-3993a97ab176"
      },
      "source": [
        "# midfileder\n",
        "midfileder = ['LCM', 'LM', 'RDM', 'CAM', 'RAM', 'RCM', 'CM', 'CDM', 'RM', 'LAM', 'LDM']\n",
        "midfileder_data = position_data.filter(col('Position').isin(midfileder)).withColumn('Positon_General', lit('Midfileder'))\n",
        "midfileder_data.count()"
      ],
      "execution_count": null,
      "outputs": [
        {
          "output_type": "execute_result",
          "data": {
            "text/plain": [
              "6862"
            ]
          },
          "metadata": {
            "tags": []
          },
          "execution_count": 11
        }
      ]
    },
    {
      "cell_type": "code",
      "metadata": {
        "colab": {
          "base_uri": "https://localhost:8080/"
        },
        "id": "JVkt2BxDZYao",
        "outputId": "285a1ba2-670a-41b2-83e3-655ce35c7164"
      },
      "source": [
        "# attacker\n",
        "attacker = ['ST', 'CF', 'LW', 'RW']\n",
        "attacker_data = position_data.filter(col('Position').isin(attacker)).withColumn('Position_General', lit('Attacker'))\n",
        "attacker_data.count()"
      ],
      "execution_count": null,
      "outputs": [
        {
          "output_type": "execute_result",
          "data": {
            "text/plain": [
              "3442"
            ]
          },
          "metadata": {
            "tags": []
          },
          "execution_count": 12
        }
      ]
    },
    {
      "cell_type": "code",
      "metadata": {
        "colab": {
          "base_uri": "https://localhost:8080/"
        },
        "id": "EE4sL882ZkBT",
        "outputId": "7b84d47f-c994-4d22-9b5c-a021493469c2"
      },
      "source": [
        "# goal keeper\n",
        "gk_data = position_data.filter(col('Position').isin(['GK'])).withColumn('Positon_General', lit('GK'))\n",
        "gk_data.count()"
      ],
      "execution_count": null,
      "outputs": [
        {
          "output_type": "execute_result",
          "data": {
            "text/plain": [
              "2036"
            ]
          },
          "metadata": {
            "tags": []
          },
          "execution_count": 13
        }
      ]
    },
    {
      "cell_type": "code",
      "metadata": {
        "id": "CBUcnSGXEuUm"
      },
      "source": [
        "general_data = defender_data.union(midfileder_data).union(attacker_data).union(gk_data)"
      ],
      "execution_count": null,
      "outputs": []
    },
    {
      "cell_type": "code",
      "metadata": {
        "colab": {
          "base_uri": "https://localhost:8080/"
        },
        "id": "7VPitywSY4Sm",
        "outputId": "45735ac3-4e23-41f4-ddf9-04f580433ca2"
      },
      "source": [
        "# missing values: \n",
        "general_data.select([count(when(isnull(c), c)).alias(c) for c in general_data.columns]).show()"
      ],
      "execution_count": null,
      "outputs": [
        {
          "output_type": "stream",
          "text": [
            "+----------+---+---+---------+---------+-----------+----+-------+---------+---------+--------------+------------------------+---------+-----------+------------------+-------------------+--------------------------+-----------------------+-----------------+---------------+-----------+-----------------+------------------+------------------+---------------------+---------------------+----------------+------------------+----------------+----------------+-------------+-------------+--------------+----------------+--------------------+-----------------------+---------------------+----------------+-------------------+-------------------+-----------------+-------------------------+------------------------+------------------+--------------------+-------------------+-----------------------+--------------------+--------+---------------+---------------+---------------+\n",
            "|short_name|age|dob|height_cm|weight_kg|nationality|club|overall|potential|value_eur|preferred_foot|international_reputation|weak_foot|skill_moves|attacking_crossing|attacking_finishing|attacking_heading_accuracy|attacking_short_passing|attacking_volleys|skill_dribbling|skill_curve|skill_fk_accuracy|skill_long_passing|skill_ball_control|movement_acceleration|movement_sprint_speed|movement_agility|movement_reactions|movement_balance|power_shot_power|power_jumping|power_stamina|power_strength|power_long_shots|mentality_aggression|mentality_interceptions|mentality_positioning|mentality_vision|mentality_penalties|mentality_composure|defending_marking|defending_standing_tackle|defending_sliding_tackle|goalkeeping_diving|goalkeeping_handling|goalkeeping_kicking|goalkeeping_positioning|goalkeeping_reflexes|Position|Attack_workrate|Defend_workrate|Positon_General|\n",
            "+----------+---+---+---------+---------+-----------+----+-------+---------+---------+--------------+------------------------+---------+-----------+------------------+-------------------+--------------------------+-----------------------+-----------------+---------------+-----------+-----------------+------------------+------------------+---------------------+---------------------+----------------+------------------+----------------+----------------+-------------+-------------+--------------+----------------+--------------------+-----------------------+---------------------+----------------+-------------------+-------------------+-----------------+-------------------------+------------------------+------------------+--------------------+-------------------+-----------------------+--------------------+--------+---------------+---------------+---------------+\n",
            "|         0|  0|  0|        0|        0|          0|   0|      0|        0|        0|             0|                       0|        0|          0|                 0|                  0|                         0|                      0|                0|              0|          0|                0|                 0|                 0|                    0|                    0|               0|                 0|               0|               0|            0|            0|             0|               0|                   0|                      0|                    0|               0|                  0|                  0|                0|                        0|                       0|                 0|                   0|                  0|                      0|                   0|       0|              0|              0|              0|\n",
            "+----------+---+---+---------+---------+-----------+----+-------+---------+---------+--------------+------------------------+---------+-----------+------------------+-------------------+--------------------------+-----------------------+-----------------+---------------+-----------+-----------------+------------------+------------------+---------------------+---------------------+----------------+------------------+----------------+----------------+-------------+-------------+--------------+----------------+--------------------+-----------------------+---------------------+----------------+-------------------+-------------------+-----------------+-------------------------+------------------------+------------------+--------------------+-------------------+-----------------------+--------------------+--------+---------------+---------------+---------------+\n",
            "\n"
          ],
          "name": "stdout"
        }
      ]
    },
    {
      "cell_type": "code",
      "metadata": {
        "colab": {
          "base_uri": "https://localhost:8080/"
        },
        "id": "X9pYTvvNe3tJ",
        "outputId": "6fed9df5-7167-42d7-a456-bc5a97cee353"
      },
      "source": [
        "# duplicated values: general data\n",
        "if general_data.count() == general_data.drop_duplicates().count():\n",
        "  print('No duplicated records.')"
      ],
      "execution_count": null,
      "outputs": [
        {
          "output_type": "stream",
          "text": [
            "No duplicated records.\n"
          ],
          "name": "stdout"
        }
      ]
    },
    {
      "cell_type": "code",
      "metadata": {
        "id": "QQSZAjLHj6F7"
      },
      "source": [
        "# numerlize categorical data\n",
        "# Rate: low, medium, high: 0, 1, 2\n",
        "# foot: left, right: 1, 0\n",
        "data_prepipe = Pipeline(stages=[\n",
        "                                StringIndexerModel.from_labels(['Low', 'Medium', 'High'], inputCol='Attack_workrate', outputCol='Attack_workrate_num'),\n",
        "                                StringIndexerModel.from_labels(['Low', 'Medium', 'High'], inputCol='Defend_workrate', outputCol='Defend_workrate_num'),\n",
        "                                StringIndexer(inputCols=[\"preferred_foot\", \"Positon_General\"], outputCols=[\"preferred_foot_\", \"Positon_label\"])\n",
        "])"
      ],
      "execution_count": null,
      "outputs": []
    },
    {
      "cell_type": "code",
      "metadata": {
        "id": "f1jLxhYkjP_Z"
      },
      "source": [
        "general_data_xformed = data_prepipe.fit(general_data).transform(general_data)\n",
        "general_data_xformed = general_data_xformed.drop('preferred_foot').\\\n",
        "                      withColumnRenamed('preferred_foot_','preferred_foot')"
      ],
      "execution_count": null,
      "outputs": []
    },
    {
      "cell_type": "code",
      "metadata": {
        "id": "wtdAKiWUUcd4"
      },
      "source": [
        "#select numeric columns as features\n",
        "feature_col = []\n",
        "for cols,types in general_data_xformed.dtypes:\n",
        "  if types in ['int','double']:\n",
        "    feature_col.append(cols)\n",
        "#remove target\n",
        "feature_col.remove('value_eur')\n",
        "feature_col.remove('Positon_label')\n",
        "feature_col.remove('overall')\n",
        "feature_col.remove('potential')"
      ],
      "execution_count": null,
      "outputs": []
    },
    {
      "cell_type": "code",
      "metadata": {
        "id": "oriFwNpRZZoA"
      },
      "source": [
        "#train test set split\n",
        "train_set, test_set = general_data_xformed.randomSplit([0.7,0.3],seed = 0)"
      ],
      "execution_count": null,
      "outputs": []
    },
    {
      "cell_type": "markdown",
      "metadata": {
        "id": "r-TugSWFDCPt"
      },
      "source": [
        "## Regression modle"
      ]
    },
    {
      "cell_type": "code",
      "metadata": {
        "id": "8b8CbrAwly98"
      },
      "source": [
        "#skip time-consuming process grid search\n",
        "Grid_search = False"
      ],
      "execution_count": null,
      "outputs": []
    },
    {
      "cell_type": "markdown",
      "metadata": {
        "id": "b4MS0mFNOQp8"
      },
      "source": [
        "### Linear regression"
      ]
    },
    {
      "cell_type": "code",
      "metadata": {
        "id": "E3vjGfu0DFT1"
      },
      "source": [
        "#module import\n",
        "from pyspark.ml.feature import VectorAssembler\n",
        "from pyspark.sql.types import IntegerType, DoubleType\n",
        "from pyspark.ml.regression import LinearRegression\n",
        "from pyspark.ml.tuning import CrossValidator, ParamGridBuilder\n",
        "from pyspark.ml import Pipeline\n",
        "from pyspark.ml.evaluation import RegressionEvaluator, MulticlassClassificationEvaluator"
      ],
      "execution_count": null,
      "outputs": []
    },
    {
      "cell_type": "code",
      "metadata": {
        "id": "4CdtkVJeXEu2"
      },
      "source": [
        "#define r square evaluator\n",
        "r_square = RegressionEvaluator(labelCol='value_eur', metricName='r2')\n",
        "#define mse evaluator\n",
        "mse = RegressionEvaluator(labelCol='value_eur', metricName='mse')"
      ],
      "execution_count": null,
      "outputs": []
    },
    {
      "cell_type": "markdown",
      "metadata": {
        "id": "ZsCBQfrOEWvc"
      },
      "source": [
        "#### Basic model training and evaluating"
      ]
    },
    {
      "cell_type": "code",
      "metadata": {
        "id": "fDmEHugcPslF"
      },
      "source": [
        "#make linear regression pipeline and train the model\n",
        "va = VectorAssembler(inputCols = feature_col,\n",
        "                     outputCol = 'features')\n",
        "lr = LinearRegression(featuresCol = 'features',\n",
        "                      labelCol='value_eur',\n",
        "                      predictionCol = 'prediction').\\\n",
        "                      setMaxIter(10)\n",
        "LR_pipe = Pipeline(stages = [va,lr])\n",
        "LR_pipe_fitted = LR_pipe.fit(train_set)\n",
        "Predict_LR = LR_pipe_fitted.transform(test_set)"
      ],
      "execution_count": null,
      "outputs": []
    },
    {
      "cell_type": "code",
      "metadata": {
        "colab": {
          "base_uri": "https://localhost:8080/"
        },
        "id": "mH4cLds2afmy",
        "outputId": "71f05803-fc22-4770-8a17-5faeedbd8f00"
      },
      "source": [
        "#mse evaluator\n",
        "lr_mse = mse.evaluate(Predict_LR)\n",
        "#r^2 evaluator\n",
        "lr_r2 = r_square.evaluate(Predict_LR)\n",
        "print('basic model evaluation:\\n ''mse:',lr_mse,'\\n r2:',lr_r2)"
      ],
      "execution_count": null,
      "outputs": [
        {
          "output_type": "stream",
          "text": [
            "basic model evaluation:\n",
            " mse: 12653485714529.701 \n",
            " r2: 0.5461485424578842\n"
          ],
          "name": "stdout"
        }
      ]
    },
    {
      "cell_type": "markdown",
      "metadata": {
        "id": "K4-J9q9uEyzi"
      },
      "source": [
        "#### Elastic net regurlarization"
      ]
    },
    {
      "cell_type": "code",
      "metadata": {
        "id": "zKizj6b7gtxW"
      },
      "source": [
        "#add elastic net regularization to linear regression\n",
        "elastic_net_alpha = np.arange(0,1,.3)\n",
        "elastic_net_lambda = np.arange(.00,.90,.15)\n",
        "#do grid search using each parameters\n",
        "if Grid_search:\n",
        "  grid = ParamGridBuilder()\\\n",
        "            .addGrid(lr.regParam, elastic_net_lambda ) \\\n",
        "            .addGrid(lr.elasticNetParam, elastic_net_alpha) \\\n",
        "            .build()\n",
        "  cv = CrossValidator(estimator=LR_pipe,\n",
        "                                  estimatorParamMaps=grid,\n",
        "                                  evaluator=r_square,\n",
        "                                  numFolds = 3,\n",
        "                                  seed = 0)\n",
        "  lr_cv = cv.fit(train_set)\n",
        "  pass"
      ],
      "execution_count": null,
      "outputs": []
    },
    {
      "cell_type": "code",
      "metadata": {
        "id": "dDyGCHXTIkjA"
      },
      "source": [
        "#extract hyperparameter of the best model\n",
        "# MaxIter = lr_cv.bestModel.stages[-1].getMaxIter()\n",
        "# ElasticNetParam = lr_cv.bestModel.stages[-1].getElasticNetParam()\n",
        "# RegParam = lr_cv.bestModel.stages[-1].getRegParam()"
      ],
      "execution_count": null,
      "outputs": []
    },
    {
      "cell_type": "code",
      "metadata": {
        "id": "uGMA4CjLj2tA"
      },
      "source": [
        "#hard coded the best model\n",
        "RegParam = 0.75\n",
        "ElasticNetParam = 0\n",
        "MaxIter = 10\n",
        "va = VectorAssembler(inputCols = feature_col,\n",
        "                     outputCol = 'features')\n",
        "lr = LinearRegression(featuresCol = 'features',\n",
        "                      labelCol='value_eur',\n",
        "                      predictionCol = 'prediction',\n",
        "                      maxIter = MaxIter,\n",
        "                      regParam = RegParam,\n",
        "                      elasticNetParam = ElasticNetParam)\n",
        "LR_pipe_best = Pipeline(stages = [va,lr])\n",
        "LR_pipe_fitted_best = LR_pipe_best.fit(train_set)\n",
        "Predict_best_LR = LR_pipe_fitted_best.transform(test_set)"
      ],
      "execution_count": null,
      "outputs": []
    },
    {
      "cell_type": "code",
      "metadata": {
        "id": "Q3WpwUVZl519",
        "colab": {
          "base_uri": "https://localhost:8080/"
        },
        "outputId": "8bde23f3-af5a-4469-cd64-75406d14b4c3"
      },
      "source": [
        "#mse of best model\n",
        "test_mse_linear = mse.evaluate(Predict_best_LR)\n",
        "#r2 of the best model\n",
        "test_r2_linear = r_square.evaluate(Predict_best_LR)\n",
        "print('Model after tuning evaluation:\\n ''mse:',test_mse_linear,'\\n r2:',test_r2_linear)"
      ],
      "execution_count": null,
      "outputs": [
        {
          "output_type": "stream",
          "text": [
            "Model after tuning evaluation:\n",
            " mse: 12653485525336.783 \n",
            " r2: 0.5461485492437996\n"
          ],
          "name": "stdout"
        }
      ]
    },
    {
      "cell_type": "code",
      "metadata": {
        "id": "TjDy_PLfJzVs"
      },
      "source": [
        "coef = LR_pipe_fitted_best.stages[-1].coefficients\n",
        "ipt = LR_pipe_fitted_best.stages[-1].intercept"
      ],
      "execution_count": null,
      "outputs": []
    },
    {
      "cell_type": "markdown",
      "metadata": {
        "id": "MwkRR0UVFIYw"
      },
      "source": [
        "#### Model performance result"
      ]
    },
    {
      "cell_type": "code",
      "metadata": {
        "colab": {
          "base_uri": "https://localhost:8080/",
          "height": 296
        },
        "id": "jLsNT9MLCVfd",
        "outputId": "14cc5962-e07f-42e2-ad81-ab527ca11b61"
      },
      "source": [
        "#visualize prediction and value_eur to\n",
        "Predict_best_LR.select('prediction', 'value_eur').toPandas().plot(x = 'value_eur', y = 'prediction', kind = 'scatter')\n",
        "plt.title('Prediction_linear vs. value_eur')\n",
        "plt.show()\n",
        "#The model is strongly linear related"
      ],
      "execution_count": null,
      "outputs": [
        {
          "output_type": "display_data",
          "data": {
            "image/png": "[encoded data removed]",
            "text/plain": [
              "<Figure size 432x288 with 1 Axes>"
            ]
          },
          "metadata": {
            "tags": [],
            "needs_background": "light"
          }
        }
      ]
    },
    {
      "cell_type": "markdown",
      "metadata": {
        "id": "cHZiC9zKOSsP"
      },
      "source": [
        "### Random Forest Regression"
      ]
    },
    {
      "cell_type": "code",
      "metadata": {
        "id": "bkWRK4-VmfMw"
      },
      "source": [
        "#import module\n",
        "from pyspark.ml.regression import RandomForestRegressor"
      ],
      "execution_count": null,
      "outputs": []
    },
    {
      "cell_type": "markdown",
      "metadata": {
        "id": "rYqfJ2XuFVwb"
      },
      "source": [
        "#### Basic Model Training and evaluating"
      ]
    },
    {
      "cell_type": "code",
      "metadata": {
        "id": "jyjDY8BkmfS-"
      },
      "source": [
        "#make and train randomforest regressor pipeline\n",
        "rfr = RandomForestRegressor(featuresCol='features', labelCol = 'value_eur',\n",
        "                            seed = 0)\n",
        "rfr_pipe = Pipeline(stages=[va,rfr])\n",
        "rfr_fitted = rfr_pipe.fit(train_set)"
      ],
      "execution_count": null,
      "outputs": []
    },
    {
      "cell_type": "code",
      "metadata": {
        "id": "_HPMxWGSmfYV"
      },
      "source": [
        "#tranform\n",
        "rfr_pred = rfr_fitted.transform(test_set)"
      ],
      "execution_count": null,
      "outputs": []
    },
    {
      "cell_type": "code",
      "metadata": {
        "colab": {
          "base_uri": "https://localhost:8080/"
        },
        "id": "H-gYoB8ttz3f",
        "outputId": "29ae9e80-6d20-446c-b70b-2aae6389783e"
      },
      "source": [
        "#mse of the model\n",
        "rf_mse = mse.evaluate(rfr_pred)\n",
        "#r2 of the best model\n",
        "rf_r2 = r_square.evaluate(rfr_pred)\n",
        "print('Basic model:\\n ''mse:',rf_mse,'\\n r2:',rf_r2)"
      ],
      "execution_count": null,
      "outputs": [
        {
          "output_type": "stream",
          "text": [
            "Basic model:\n",
            " mse: 5379498261344.142 \n",
            " r2: 0.8070497583165716\n"
          ],
          "name": "stdout"
        }
      ]
    },
    {
      "cell_type": "markdown",
      "metadata": {
        "id": "ZMnOSZyRFhZG"
      },
      "source": [
        "#### Hyperparameter tuning"
      ]
    },
    {
      "cell_type": "code",
      "metadata": {
        "id": "ca07AAEYuBJC"
      },
      "source": [
        "if Grid_search:\n",
        "  #do grid search to find best model\n",
        "  rf = RandomForestRegressor().\\\n",
        "        setFeaturesCol('features').\\\n",
        "        setLabelCol('value_eur')\n",
        "  rf_pipe = Pipeline(stages=[va, rf])\n",
        "  #build parameters grid and cross validation model\n",
        "  grid = ParamGridBuilder().\\\n",
        "            addGrid(rf.numTrees,[10,50,100]).\\\n",
        "            addGrid(rf.maxDepth,[10,20]).\\\n",
        "            addGrid(rf.minInstancesPerNode,[10,50]).\\\n",
        "            addGrid(rf.subsamplingRate,[0.1,0.2]).\\\n",
        "            build()\n",
        "  rf_cv = CrossValidator(estimator=rf_pipe,\n",
        "                        estimatorParamMaps = grid,\n",
        "                        evaluator = mse,\n",
        "                        numFolds=2,\n",
        "                        seed = 0)\n",
        "  rf_cv_fitted = rf_cv.fit(general_data_xformed)\n",
        "  pass"
      ],
      "execution_count": null,
      "outputs": []
    },
    {
      "cell_type": "code",
      "metadata": {
        "id": "BLhydRS3ILlu"
      },
      "source": [
        "#extract hyperparameter of best model\n",
        "# NumTrees = rf_cv_fitted.bestModel.stages[1].getNumTrees\n",
        "# MinInstancesPerNode = rf_cv_fitted.bestModel.stages[1].getMinInstancesPerNode()\n",
        "# MaxDepth = rf_cv_fitted.bestModel.stages[1].getMaxDepth()\n",
        "# SubsamplingRate = rf_cv_fitted.bestModel.stages[1].getSubsamplingRate()"
      ],
      "execution_count": null,
      "outputs": []
    },
    {
      "cell_type": "code",
      "metadata": {
        "id": "PY34m5XGySP0"
      },
      "source": [
        "#hard coded the best model\n",
        "NumTrees = 100\n",
        "MinInstancesPerNode = 10\n",
        "MaxDepth = 20\n",
        "SubsamplingRate = 0.2\n",
        "#construct rf model with the best hyperparameter\n",
        "rf = RandomForestRegressor(numTrees=NumTrees,\n",
        "                           maxDepth = MaxDepth,\n",
        "                           subsamplingRate = SubsamplingRate,\n",
        "                           minInstancesPerNode = MinInstancesPerNode,\n",
        "                           seed = 0).\\\n",
        "     setFeaturesCol('features').\\\n",
        "     setLabelCol('value_eur')\n",
        "rf_bpipe = Pipeline(stages=[va, rf])\n",
        "best_pipe = rf_bpipe.fit(train_set)"
      ],
      "execution_count": null,
      "outputs": []
    },
    {
      "cell_type": "code",
      "metadata": {
        "id": "AIczFkx2yjWd"
      },
      "source": [
        "#fit model with test data set\n",
        "rfr_best_df = best_pipe.transform(test_set)"
      ],
      "execution_count": null,
      "outputs": []
    },
    {
      "cell_type": "code",
      "metadata": {
        "id": "5UhIyRbMFC5K",
        "colab": {
          "base_uri": "https://localhost:8080/"
        },
        "outputId": "60e6df33-ccce-4a50-a03d-c45f81ea461f"
      },
      "source": [
        "#rmse of best randomforest model\n",
        "test_mse_rf = mse.evaluate(rfr_best_df)\n",
        "#r_square of the best randomforest\n",
        "test_r2_rf = r_square.evaluate(rfr_best_df)\n",
        "print('Model after tuning:\\n ''mse:',test_mse_rf,'\\n r2:',test_r2_rf)"
      ],
      "execution_count": null,
      "outputs": [
        {
          "output_type": "stream",
          "text": [
            "Model after tuning:\n",
            " mse: 5938747336138.239 \n",
            " r2: 0.7869907790399814\n"
          ],
          "name": "stdout"
        }
      ]
    },
    {
      "cell_type": "markdown",
      "metadata": {
        "id": "8VxLL-2XFo0V"
      },
      "source": [
        "#### Feature importance visualization"
      ]
    },
    {
      "cell_type": "code",
      "metadata": {
        "colab": {
          "base_uri": "https://localhost:8080/",
          "height": 420
        },
        "id": "uxJpBGsN2rR0",
        "outputId": "a0652bbf-6555-448d-fc4e-5b0eeb70acc5"
      },
      "source": [
        "#out put feature importances\n",
        "featureImportances = pd.DataFrame(list(zip(feature_col, best_pipe.stages[-1].featureImportances)),\n",
        "            columns = ['column', 'importance']).sort_values('importance', ascending = False)\n",
        "featureImportances[featureImportances['importance'] > .01].plot(y='importance', x='column', kind = \"bar\" )\n",
        "plt.xlabel('features')\n",
        "plt.ylabel('importance')\n",
        "plt.title('Feature Importances plot')\n",
        "plt.show()"
      ],
      "execution_count": null,
      "outputs": [
        {
          "output_type": "display_data",
          "data": {
            "image/png": "[encoded data removed]",
            "text/plain": [
              "<Figure size 432x288 with 1 Axes>"
            ]
          },
          "metadata": {
            "tags": [],
            "needs_background": "light"
          }
        }
      ]
    },
    {
      "cell_type": "markdown",
      "metadata": {
        "id": "KxiXEUoFOS4B"
      },
      "source": [
        "### Gradient Boosting Machine Regression"
      ]
    },
    {
      "cell_type": "markdown",
      "metadata": {
        "id": "Xipg6DzRGjlD"
      },
      "source": [
        "#### Learning rate searching"
      ]
    },
    {
      "cell_type": "code",
      "metadata": {
        "id": "UyOfQG29mgP6"
      },
      "source": [
        "#import module\n",
        "from pyspark.ml.regression import GBTRegressor"
      ],
      "execution_count": null,
      "outputs": []
    },
    {
      "cell_type": "code",
      "metadata": {
        "id": "GOfXUlVemgTS"
      },
      "source": [
        "#do a grid search\n",
        "gbt = GBTRegressor(maxIter = 10, maxDepth = 4, seed = 0).\\\n",
        "      setFeaturesCol('features').\\\n",
        "      setLabelCol('value_eur')\n",
        "gbt_pipe = Pipeline(stages=[va, gbt])\n",
        "#build parameters grid and cross validation model \n",
        "#search for the best learning rate of GBM\n",
        "train_r2 = []\n",
        "test_r2 = []\n",
        "stepsize = np.arange(0.1,0.9,0.1)\n",
        "for step in stepsize:\n",
        "  grid_gbt = ParamGridBuilder().\\\n",
        "          addGrid(gbt.stepSize,[step]).\\\n",
        "            build()\n",
        "  gbt_cv = CrossValidator(estimator=gbt_pipe,\n",
        "                        estimatorParamMaps = grid_gbt,\n",
        "                        evaluator = mse,\n",
        "                        numFolds=2,\n",
        "                        seed = 0)\n",
        "  gbt_cv_fitted = gbt_cv.fit(general_data_xformed)\n",
        "  train_r2.append(r_square.evaluate(gbt_cv_fitted.bestModel.transform(train_set)))\n",
        "  test_r2.append(r_square.evaluate(gbt_cv_fitted.bestModel.transform(test_set)))"
      ],
      "execution_count": null,
      "outputs": []
    },
    {
      "cell_type": "code",
      "metadata": {
        "colab": {
          "base_uri": "https://localhost:8080/",
          "height": 621
        },
        "id": "N7WEoHeYzWou",
        "outputId": "d55e2b03-908e-45bd-9a45-434fde7384d8"
      },
      "source": [
        "#visualize train r2 & test r2 vs. learning rate\n",
        "#learning rate - 0.5\n",
        "plt.figure(figsize=(10,10))\n",
        "plt.plot(stepsize, train_r2, 'o-', linewidth=2, label=\"Train Set\")\n",
        "plt.plot(stepsize, test_r2, 'o-', linewidth=2, label=\"Test Set\")\n",
        "plt.title('train r2 & test r2 vs. learning rate')\n",
        "plt.xlabel(\"learning rate\")\n",
        "plt.ylabel(\"r^2\")\n",
        "plt.legend()\n",
        "plt.show()"
      ],
      "execution_count": null,
      "outputs": [
        {
          "output_type": "display_data",
          "data": {
            "image/png": "[encoded data removed]",
            "text/plain": [
              "<Figure size 720x720 with 1 Axes>"
            ]
          },
          "metadata": {
            "tags": [],
            "needs_background": "light"
          }
        }
      ]
    },
    {
      "cell_type": "code",
      "metadata": {
        "id": "juxRgn17mgWM",
        "colab": {
          "base_uri": "https://localhost:8080/"
        },
        "outputId": "b127d1e1-8417-4891-cac6-af752a1db42e"
      },
      "source": [
        "#hard coded parameter best model code here\n",
        "#CV model contains pipe model containing gbtregressor\n",
        "gbt_best = GBTRegressor(maxDepth=10,\n",
        "                        stepSize=0.5,\n",
        "                        maxIter=4,\n",
        "                        seed = 0).\\\n",
        "                        setFeaturesCol('features').\\\n",
        "                        setLabelCol('value_eur')\n",
        "gbt_best_pipe = Pipeline(stages=[va, gbt_best])\n",
        "gbt_best_fitted = gbt_best_pipe.fit(train_set)\n",
        "gbt_test_df  = gbt_best_fitted.transform(test_set)\n",
        "test_mse_gbt = round(mse.evaluate(gbt_test_df),2)\n",
        "test_r2_gbt = round(r_square.evaluate(gbt_test_df),2)\n",
        "print('Model after tuning:\\n ''mse:',test_mse_gbt,'\\n r2:',test_r2_gbt)"
      ],
      "execution_count": null,
      "outputs": [
        {
          "output_type": "stream",
          "text": [
            "Model after tuning:\n",
            " mse: 7925517095656.42 \n",
            " r2: 0.72\n"
          ],
          "name": "stdout"
        }
      ]
    },
    {
      "cell_type": "markdown",
      "metadata": {
        "id": "RFpNGXXFHGLb"
      },
      "source": [
        "### Linear model comparation"
      ]
    },
    {
      "cell_type": "code",
      "metadata": {
        "id": "gCA9E74XxdkB",
        "colab": {
          "base_uri": "https://localhost:8080/",
          "height": 142
        },
        "outputId": "684892e5-56ef-4a5b-89a3-c861574ecdd6"
      },
      "source": [
        "#model comparation\n",
        "compare_df = pd.DataFrame(list(zip(['LR',' RF','GBT'], [test_mse_linear, test_mse_rf, test_mse_gbt],\n",
        "                                     [test_r2_linear, test_r2_rf, test_r2_gbt])),\n",
        "            columns = ['model', 'mse','r^2'])\n",
        "display(compare_df)"
      ],
      "execution_count": null,
      "outputs": [
        {
          "output_type": "display_data",
          "data": {
            "text/html": [
              "<div>\n",
              "<style scoped>\n",
              "    .dataframe tbody tr th:only-of-type {\n",
              "        vertical-align: middle;\n",
              "    }\n",
              "\n",
              "    .dataframe tbody tr th {\n",
              "        vertical-align: top;\n",
              "    }\n",
              "\n",
              "    .dataframe thead th {\n",
              "        text-align: right;\n",
              "    }\n",
              "</style>\n",
              "<table border=\"1\" class=\"dataframe\">\n",
              "  <thead>\n",
              "    <tr style=\"text-align: right;\">\n",
              "      <th></th>\n",
              "      <th>model</th>\n",
              "      <th>mse</th>\n",
              "      <th>r^2</th>\n",
              "    </tr>\n",
              "  </thead>\n",
              "  <tbody>\n",
              "    <tr>\n",
              "      <th>0</th>\n",
              "      <td>LR</td>\n",
              "      <td>1.265349e+13</td>\n",
              "      <td>0.546149</td>\n",
              "    </tr>\n",
              "    <tr>\n",
              "      <th>1</th>\n",
              "      <td>RF</td>\n",
              "      <td>5.938747e+12</td>\n",
              "      <td>0.786991</td>\n",
              "    </tr>\n",
              "    <tr>\n",
              "      <th>2</th>\n",
              "      <td>GBT</td>\n",
              "      <td>7.925517e+12</td>\n",
              "      <td>0.720000</td>\n",
              "    </tr>\n",
              "  </tbody>\n",
              "</table>\n",
              "</div>"
            ],
            "text/plain": [
              "  model           mse       r^2\n",
              "0    LR  1.265349e+13  0.546149\n",
              "1    RF  5.938747e+12  0.786991\n",
              "2   GBT  7.925517e+12  0.720000"
            ]
          },
          "metadata": {
            "tags": []
          }
        }
      ]
    },
    {
      "cell_type": "markdown",
      "metadata": {
        "id": "irgMXtMuJz7W"
      },
      "source": [
        "## Classification modle"
      ]
    },
    {
      "cell_type": "code",
      "metadata": {
        "id": "-btp4WZb6LOO"
      },
      "source": [
        "from pyspark.ml.evaluation import BinaryClassificationEvaluator\n",
        "from pyspark.ml.evaluation import MulticlassClassificationEvaluator\n",
        "#define auto f1 score evaluator\n",
        "def f1_evaluation(model_pipeline, model_fitted, data):\n",
        "  return MulticlassClassificationEvaluator(labelCol=model_pipeline.getStages()[-1].getLabelCol(), \n",
        "                                predictionCol=model_pipeline.getStages()[-1].getPredictionCol()).\\\n",
        "    evaluate(model_fitted.transform(data))\n",
        "#define auto accuracy evaluator\n",
        "def accuracy_evaluation(model_pipeline, model_fitted, data):\n",
        "  return MulticlassClassificationEvaluator(labelCol=model_pipeline.getStages()[-1].getLabelCol(),\n",
        "                                           metricName = 'accuracy', \n",
        "                                predictionCol=model_pipeline.getStages()[-1].getPredictionCol()).\\\n",
        "    evaluate(model_fitted.transform(data))\n",
        "#define f1 multiclass evaluator\n",
        "f1 = MulticlassClassificationEvaluator(labelCol='Positon_label', predictionCol='prediction')\n",
        "#define accuracy multiclass evaluator\n",
        "accuracy = MulticlassClassificationEvaluator(labelCol='Positon_label', predictionCol='prediction',\n",
        "                                             metricName = 'accuracy')"
      ],
      "execution_count": null,
      "outputs": []
    },
    {
      "cell_type": "markdown",
      "metadata": {
        "id": "Ymzdw1Xv537n"
      },
      "source": [
        "### Multi-class logistic regression"
      ]
    },
    {
      "cell_type": "code",
      "metadata": {
        "id": "wUwCZDKVJ2zr"
      },
      "source": [
        "#import module\n",
        "from pyspark.ml.classification import LogisticRegression"
      ],
      "execution_count": null,
      "outputs": []
    },
    {
      "cell_type": "markdown",
      "metadata": {
        "id": "hIf4WYIGHL2W"
      },
      "source": [
        "#### Basic model training and evaluating"
      ]
    },
    {
      "cell_type": "code",
      "metadata": {
        "colab": {
          "base_uri": "https://localhost:8080/"
        },
        "id": "T5ktFwiQ8j_s",
        "outputId": "7f10f6c1-630e-4efb-de8a-8b7831f537be"
      },
      "source": [
        "#train the model without hyperparametertuning \n",
        "lrc = LogisticRegression(maxIter=10).\\\n",
        "      setLabelCol('Positon_label')\n",
        "lrc_pipe = Pipeline(stages=[va,lrc])\n",
        "lrc_fitted = lrc_pipe.fit(train_set)\n",
        "print('Basic model f1:')\n",
        "lrc_f1 = f1_evaluation(lrc_pipe, lrc_fitted, test_set)\n",
        "print(lrc_f1)\n",
        "print('Basic model accuracy:')\n",
        "lrc_acc = accuracy_evaluation(lrc_pipe, lrc_fitted, test_set)\n",
        "print(lrc_acc)"
      ],
      "execution_count": null,
      "outputs": [
        {
          "output_type": "stream",
          "text": [
            "Basic model f1:\n",
            "0.7960171869417222\n",
            "Basic model accuracy:\n",
            "0.796078431372549\n"
          ],
          "name": "stdout"
        }
      ]
    },
    {
      "cell_type": "markdown",
      "metadata": {
        "id": "098nApzLH50h"
      },
      "source": [
        "#### Elastic regularization and Grid search"
      ]
    },
    {
      "cell_type": "code",
      "metadata": {
        "id": "Nj4EZEsq-SiJ"
      },
      "source": [
        "#add regularization to logistic regression\n",
        "elastic_net_alpha = np.arange(0,1,.3)\n",
        "elastic_net_lambda = np.arange(.00,.90,.15)\\\n",
        "#do grid search to find the best model\n",
        "grid = ParamGridBuilder().\\\n",
        "            addGrid(lr.elasticNetParam,elastic_net_alpha).\\\n",
        "            addGrid(lr.regParam,elastic_net_lambda).\\\n",
        "            build()\n",
        "cv = CrossValidator(estimator=lrc_pipe,\n",
        "                        estimatorParamMaps = grid,\n",
        "                        evaluator = f1,\n",
        "                        numFolds = 3,\n",
        "                        seed = 0)\n",
        "lrc_cv = cv.fit(train_set)\n",
        "pass"
      ],
      "execution_count": null,
      "outputs": []
    },
    {
      "cell_type": "code",
      "metadata": {
        "colab": {
          "base_uri": "https://localhost:8080/"
        },
        "id": "IN7yPhJSpJTK",
        "outputId": "f155c531-0b59-48c1-f7c7-c2703a97877e"
      },
      "source": [
        "#output hyperparameters\n",
        "lrc_best = lrc_cv.bestModel\n",
        "lmd = lrc_best.stages[-1].getElasticNetParam()\n",
        "a = lrc_best.stages[-1].getRegParam()\n",
        "print('lambda:',lmd,'\\nalpha:',a)\n",
        "#output f1 score\n",
        "print('f1 after tuning:')\n",
        "lrc_f1 = f1_evaluation(lrc_pipe, lrc_best, test_set)\n",
        "print(lrc_f1)\n",
        "print('Accuracy after tuning:')\n",
        "lrc_accuracy = accuracy_evaluation(lrc_pipe, lrc_best, test_set)\n",
        "print(lrc_accuracy)\n",
        "#model performs the best when there is no regularization"
      ],
      "execution_count": null,
      "outputs": [
        {
          "output_type": "stream",
          "text": [
            "lambda: 0.0 \n",
            "alpha: 0.0\n",
            "f1 after tuning:\n",
            "0.7960171869417222\n",
            "Accuracy after tuning:\n",
            "0.796078431372549\n"
          ],
          "name": "stdout"
        }
      ]
    },
    {
      "cell_type": "markdown",
      "metadata": {
        "id": "BSytlup3IjsC"
      },
      "source": [
        "#### Model performance evaluation"
      ]
    },
    {
      "cell_type": "code",
      "metadata": {
        "colab": {
          "base_uri": "https://localhost:8080/"
        },
        "id": "m5o6P49cr0RE",
        "outputId": "6933f335-3b8f-47be-b3db-1e56cd2a11e3"
      },
      "source": [
        "#extract recall and precision by label from logisticregression summary\n",
        "LRC_summary = lrc_best.stages[-1].summary\n",
        "LRC_summary.accuracy\n",
        "LRC_summary.recallByLabel\n",
        "LRC_summary.precisionByLabel"
      ],
      "execution_count": null,
      "outputs": [
        {
          "output_type": "execute_result",
          "data": {
            "text/plain": [
              "[0.7432404540763674, 0.8351539225422046, 0.8057285180572852, 1.0]"
            ]
          },
          "metadata": {
            "tags": []
          },
          "execution_count": 54
        }
      ]
    },
    {
      "cell_type": "code",
      "metadata": {
        "colab": {
          "base_uri": "https://localhost:8080/",
          "height": 193
        },
        "id": "YORKCHXLsKT-",
        "outputId": "1f4044d2-25e2-44f6-a68e-78e461ece542"
      },
      "source": [
        "position_name = ['Midfileder','Defender','Attacker','GK']\n",
        "#output recall by label\n",
        "pd.DataFrame(list(zip(position_name, LRC_summary.recallByLabel)),\n",
        "            columns = ['target_label', 'recall'])"
      ],
      "execution_count": null,
      "outputs": [
        {
          "output_type": "execute_result",
          "data": {
            "text/html": [
              "<div>\n",
              "<style scoped>\n",
              "    .dataframe tbody tr th:only-of-type {\n",
              "        vertical-align: middle;\n",
              "    }\n",
              "\n",
              "    .dataframe tbody tr th {\n",
              "        vertical-align: top;\n",
              "    }\n",
              "\n",
              "    .dataframe thead th {\n",
              "        text-align: right;\n",
              "    }\n",
              "</style>\n",
              "<table border=\"1\" class=\"dataframe\">\n",
              "  <thead>\n",
              "    <tr style=\"text-align: right;\">\n",
              "      <th></th>\n",
              "      <th>target_label</th>\n",
              "      <th>recall</th>\n",
              "    </tr>\n",
              "  </thead>\n",
              "  <tbody>\n",
              "    <tr>\n",
              "      <th>0</th>\n",
              "      <td>Midfileder</td>\n",
              "      <td>0.763085</td>\n",
              "    </tr>\n",
              "    <tr>\n",
              "      <th>1</th>\n",
              "      <td>Defender</td>\n",
              "      <td>0.813543</td>\n",
              "    </tr>\n",
              "    <tr>\n",
              "      <th>2</th>\n",
              "      <td>Attacker</td>\n",
              "      <td>0.799423</td>\n",
              "    </tr>\n",
              "    <tr>\n",
              "      <th>3</th>\n",
              "      <td>GK</td>\n",
              "      <td>1.000000</td>\n",
              "    </tr>\n",
              "  </tbody>\n",
              "</table>\n",
              "</div>"
            ],
            "text/plain": [
              "  target_label    recall\n",
              "0   Midfileder  0.763085\n",
              "1     Defender  0.813543\n",
              "2     Attacker  0.799423\n",
              "3           GK  1.000000"
            ]
          },
          "metadata": {
            "tags": []
          },
          "execution_count": 55
        }
      ]
    },
    {
      "cell_type": "code",
      "metadata": {
        "colab": {
          "base_uri": "https://localhost:8080/",
          "height": 193
        },
        "id": "W9jX4-9Zu1K0",
        "outputId": "179400a7-715d-4365-8d03-aaf57f14c44d"
      },
      "source": [
        "#output recall, precision, data table\n",
        "#output precision by label\n",
        "pd.DataFrame(list(zip(position_name, LRC_summary.precisionByLabel)),\n",
        "            columns = ['target_label', 'precision'])"
      ],
      "execution_count": null,
      "outputs": [
        {
          "output_type": "execute_result",
          "data": {
            "text/html": [
              "<div>\n",
              "<style scoped>\n",
              "    .dataframe tbody tr th:only-of-type {\n",
              "        vertical-align: middle;\n",
              "    }\n",
              "\n",
              "    .dataframe tbody tr th {\n",
              "        vertical-align: top;\n",
              "    }\n",
              "\n",
              "    .dataframe thead th {\n",
              "        text-align: right;\n",
              "    }\n",
              "</style>\n",
              "<table border=\"1\" class=\"dataframe\">\n",
              "  <thead>\n",
              "    <tr style=\"text-align: right;\">\n",
              "      <th></th>\n",
              "      <th>target_label</th>\n",
              "      <th>precision</th>\n",
              "    </tr>\n",
              "  </thead>\n",
              "  <tbody>\n",
              "    <tr>\n",
              "      <th>0</th>\n",
              "      <td>Midfileder</td>\n",
              "      <td>0.743240</td>\n",
              "    </tr>\n",
              "    <tr>\n",
              "      <th>1</th>\n",
              "      <td>Defender</td>\n",
              "      <td>0.835154</td>\n",
              "    </tr>\n",
              "    <tr>\n",
              "      <th>2</th>\n",
              "      <td>Attacker</td>\n",
              "      <td>0.805729</td>\n",
              "    </tr>\n",
              "    <tr>\n",
              "      <th>3</th>\n",
              "      <td>GK</td>\n",
              "      <td>1.000000</td>\n",
              "    </tr>\n",
              "  </tbody>\n",
              "</table>\n",
              "</div>"
            ],
            "text/plain": [
              "  target_label  precision\n",
              "0   Midfileder   0.743240\n",
              "1     Defender   0.835154\n",
              "2     Attacker   0.805729\n",
              "3           GK   1.000000"
            ]
          },
          "metadata": {
            "tags": []
          },
          "execution_count": 56
        }
      ]
    },
    {
      "cell_type": "markdown",
      "metadata": {
        "id": "68s-45UJIpXW"
      },
      "source": [
        "Seen that goal keeper player is different to other 3 kinds of players"
      ]
    },
    {
      "cell_type": "markdown",
      "metadata": {
        "id": "5eEl2kS057tP"
      },
      "source": [
        "### Random Forest classificition"
      ]
    },
    {
      "cell_type": "code",
      "metadata": {
        "id": "9bjMcS2b6ebJ"
      },
      "source": [
        "#import module\n",
        "from pyspark.ml.classification import RandomForestClassifier"
      ],
      "execution_count": null,
      "outputs": []
    },
    {
      "cell_type": "markdown",
      "metadata": {
        "id": "HKXWcx3_I4Dd"
      },
      "source": [
        "#### Basic Model training and evaluation"
      ]
    },
    {
      "cell_type": "code",
      "metadata": {
        "id": "QEnplLLW6BWV"
      },
      "source": [
        "#construct pipeline model\n",
        "rfc = RandomForestClassifier(seed = 0).\\\n",
        "      setLabelCol('Positon_label')\n",
        "rfc_pipe = Pipeline(stages=[va,rfc])\n",
        "rfc_fitted = rfc_pipe.fit(train_set)"
      ],
      "execution_count": null,
      "outputs": []
    },
    {
      "cell_type": "code",
      "metadata": {
        "colab": {
          "base_uri": "https://localhost:8080/"
        },
        "id": "ZjSBHJEX6bzM",
        "outputId": "f33d2621-9b87-4f46-da09-6546f78788fc"
      },
      "source": [
        "#calculate accuracy\n",
        "print('f1:')\n",
        "rfc_acc = f1_evaluation(rfc_pipe, rfc_fitted, test_set)\n",
        "print(rfc_acc)\n",
        "print('Accuracy:')\n",
        "rfc_acc = accuracy_evaluation(lrc_pipe, lrc_best, test_set)\n",
        "print(rfc_acc)"
      ],
      "execution_count": null,
      "outputs": [
        {
          "output_type": "stream",
          "text": [
            "f1:\n",
            "0.838273254114523\n",
            "Accuracy:\n",
            "0.796078431372549\n"
          ],
          "name": "stdout"
        }
      ]
    },
    {
      "cell_type": "markdown",
      "metadata": {
        "id": "E0qt96PkJJzn"
      },
      "source": [
        "#### Hyperparameter tuning"
      ]
    },
    {
      "cell_type": "code",
      "metadata": {
        "id": "F3aM70L09lGn"
      },
      "source": [
        "#do a grid search\n",
        "if Grid_search:\n",
        "  grid = ParamGridBuilder().\\\n",
        "            addGrid(rfc.numTrees,[10,50,100]).\\\n",
        "            addGrid(rfc.maxDepth,[10,20]).\\\n",
        "            addGrid(rfc.impurity,['gini','entropy']).\\\n",
        "            build()\n",
        "  rfc_cv = CrossValidator(estimator=rfc_pipe,\n",
        "                          estimatorParamMaps = grid,\n",
        "                        evaluator = f1,\n",
        "                        numFolds=2,\n",
        "                        seed = 0)\n",
        "  rfc_cv_fitted = rfc_cv.fit(general_data_xformed)\n",
        "  pass"
      ],
      "execution_count": null,
      "outputs": []
    },
    {
      "cell_type": "code",
      "metadata": {
        "id": "_Z5CxF2fHIBi"
      },
      "source": [
        "#extract hyperparameter of best model\n",
        "# NumTrees = rfc_cv_fitted.bestModel.stages[1].getNumTrees\n",
        "# MaxDepth = rfc_cv_fitted.bestModel.stages[1].getMaxDepth()\n",
        "# Impurity = rfc_cv_fitted.bestModel.stages[1].getImpurity()"
      ],
      "execution_count": null,
      "outputs": []
    },
    {
      "cell_type": "code",
      "metadata": {
        "id": "DwdrbcVH8OJk",
        "colab": {
          "base_uri": "https://localhost:8080/"
        },
        "outputId": "c9eb1ae3-80da-4f8a-cb28-0eb65896bf75"
      },
      "source": [
        "#Hard core hyperparameter\n",
        "NumTrees = 100\n",
        "MaxDepth = 20\n",
        "Impurity = 'entropy'\n",
        "print('NumTrees:',NumTrees,'\\n MaxDepth:',MaxDepth ,'\\n Impurity:', Impurity)\n",
        "rfc_best = RandomForestClassifier(numTrees=NumTrees,\n",
        "                           maxDepth = MaxDepth,\n",
        "                           subsamplingRate = SubsamplingRate,\n",
        "                           minInstancesPerNode = MinInstancesPerNode,\n",
        "                           impurity = Impurity,\n",
        "                           seed = 0).\\\n",
        "                            setFeaturesCol('features').\\\n",
        "                           setLabelCol('Positon_label')\n",
        "rfc_bpipe = Pipeline(stages=[va, rfc_best])\n",
        "rfc_best_pipe = rfc_bpipe.fit(train_set)"
      ],
      "execution_count": null,
      "outputs": [
        {
          "output_type": "stream",
          "text": [
            "NumTrees: 100 \n",
            " MaxDepth: 20 \n",
            " Impurity: entropy\n"
          ],
          "name": "stdout"
        }
      ]
    },
    {
      "cell_type": "code",
      "metadata": {
        "id": "2OJK8BmxG11y",
        "colab": {
          "base_uri": "https://localhost:8080/"
        },
        "outputId": "6e06efb4-1e79-462f-e03a-d2a9dc6703ea"
      },
      "source": [
        "#transform test_set\n",
        "rfc_best_pipe.transform(test_set)\n",
        "#calculate f1 score\n",
        "print('f1 after tuning:')\n",
        "rfc_best_f1 = f1_evaluation(rfc_pipe, rfc_best_pipe, test_set)\n",
        "print(rfc_best_f1)\n",
        "#calculate accuracy\n",
        "print('Accuracy after tuning:')\n",
        "rfc_best_acc = accuracy_evaluation(rfc_pipe, rfc_best_pipe, test_set)\n",
        "print(rfc_best_acc)"
      ],
      "execution_count": null,
      "outputs": [
        {
          "output_type": "stream",
          "text": [
            "f1 after tuning:\n",
            "0.8844617010192888\n",
            "Accuracy after tuning:\n",
            "0.8848484848484849\n"
          ],
          "name": "stdout"
        }
      ]
    },
    {
      "cell_type": "markdown",
      "metadata": {
        "id": "o_dXa9ZRJNT2"
      },
      "source": [
        "#### Feature Importance visualization"
      ]
    },
    {
      "cell_type": "code",
      "metadata": {
        "id": "tP21ZqWuGrk6",
        "colab": {
          "base_uri": "https://localhost:8080/",
          "height": 54
        },
        "outputId": "6471f21e-1344-4198-e67d-4db9da652ddf"
      },
      "source": [
        "#output feature imporatances\n",
        "featureImportances = pd.DataFrame(list(zip(feature_col, rfc_best_pipe.stages[-1].featureImportances)),\n",
        "            columns = ['column', 'weight']).sort_values('weight', ascending = False)\n",
        "featureImportances[featureImportances['weight'] > .03].plot(y='weight', x='column', kind = \"bar\" )\n",
        "plt.title('Feature Importances plot')\n",
        "plt.xlabel('features')\n",
        "plt.ylabel('importance')\n",
        "plt.show()"
      ],
      "execution_count": null,
      "outputs": [
        {
          "output_type": "display_data",
          "data": {
            "image/png": "[encoded data removed]",
            "text/plain": [
              "<Figure size 432x288 with 1 Axes>"
            ]
          },
          "metadata": {
            "tags": [],
            "needs_background": "light"
          }
        }
      ]
    },
    {
      "cell_type": "markdown",
      "metadata": {
        "id": "76IjCweHJjtO"
      },
      "source": [
        "### Classification Model Comparation"
      ]
    }
  ]
}